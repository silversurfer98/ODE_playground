{
 "cells": [
  {
   "cell_type": "code",
   "execution_count": 64,
   "metadata": {},
   "outputs": [],
   "source": [
    "from scipy.integrate import odeint\n",
    "import numpy as np\n",
    "import matplotlib.pyplot as plt"
   ]
  },
  {
   "cell_type": "code",
   "execution_count": 65,
   "metadata": {},
   "outputs": [],
   "source": [
    "def tank_improved(z,t,min,tin,cp,q,rho,g,r,a):\n",
    "    h = z[0]\n",
    "    te = z[1]\n",
    "    dhdt = (1/a) * ((min/rho) - (rho*g*h/r))\n",
    "    dTdt = (min/(rho*rho*g*h/r))*tin - te + q/(cp*(rho*rho*g*h/r))\n",
    "    dzdt = [dhdt,dTdt]\n",
    "    return dzdt\n"
   ]
  },
  {
   "cell_type": "code",
   "execution_count": 66,
   "metadata": {},
   "outputs": [],
   "source": [
    "# heater model parameters\n",
    "t = np.linspace(0,500,5000)\n",
    "\n",
    "tin = 293.15\n",
    "#q = 150000\n",
    "cp = 4.2\n",
    "\n",
    "# tank model parameters \n",
    "min = 3000.0\n",
    "h0 = 4\n",
    "rho = 1000\n",
    "# r = 20000\n",
    "a = np.pi * 1.5**2\n",
    "g = 9.8"
   ]
  },
  {
   "cell_type": "code",
   "execution_count": 67,
   "metadata": {},
   "outputs": [],
   "source": [
    "### TEST MODEL SETUP ###\n",
    "# z = odeint(tank_improved,z0,t,args=(min,tin,cp,q,rho,g,r,a,))\n",
    "# h = z[:,0]\n",
    "# te = z[:,1]\n",
    "# te = te - 273.15\n",
    "# print(z)"
   ]
  },
  {
   "cell_type": "code",
   "execution_count": 127,
   "metadata": {},
   "outputs": [],
   "source": [
    "## control system\n",
    "sp_te = np.ones(len(t)) * (65.0 + 273.15)\n",
    "sp_te[:10] = 0\n",
    "\n",
    "sp_h = np.ones(len(t)) * 6\n",
    "sp_h[2000:] = 4\n",
    "\n",
    "error_te = np.zeros(len(t))\n",
    "error_h = np.zeros(len(t))\n",
    "\n",
    "# PID parameters 1-->h and 2-->te\n",
    "Dsum = [0.0, 0.0]\n",
    "Isum = [0.0, 0.0]\n",
    "LastError = [0.0, 0.0]\n",
    "\n",
    "kc = [5.2, 10.8]\n",
    "taui = [1.0, 0.30]\n",
    "taud = [5.0, 5.0]"
   ]
  },
  {
   "cell_type": "code",
   "execution_count": 128,
   "metadata": {},
   "outputs": [],
   "source": [
    "#controllable variables\n",
    "q = np.zeros(len(t))\n",
    "#q[100:] = 150000\n",
    "\n",
    "r = np.ones(len(t))*20000"
   ]
  },
  {
   "cell_type": "code",
   "execution_count": 129,
   "metadata": {},
   "outputs": [],
   "source": [
    "z0 = [h0,tin]\n",
    "h=np.zeros(len(t))\n",
    "te=np.zeros(len(t))\n",
    "h[0] = h0\n",
    "te[0] = tin\n",
    "for i in range (len(t)-1):\n",
    "    #-------------------------------------------------------------------------------#\n",
    "    error_h[i] = sp_h[i] - z0[0]\n",
    "    error_te[i] = sp_te[i] - z0[1]\n",
    "\n",
    "    Isum[0] = Isum[0] + (kc[0]/taui[0])*error_h[i]\n",
    "    Isum[1] = Isum[1] + (kc[1]/taui[1])*error_te[i]\n",
    "\n",
    "    Dsum[0] = (kc[0]/taud[0])*(error_h[i] - LastError[0])\n",
    "    Dsum[1] = (kc[1]/taud[1])*(error_te[i] - LastError[1])\n",
    "\n",
    "    r[i] = r[0] + kc[0]*error_h[i] + Isum[0] + Dsum[0]\n",
    "    q[i] = q[0] + kc[1]*error_te[i] + Isum[1] + Dsum[1]\n",
    "    #-------------------------------------------------------------------------------#\n",
    "    z = odeint(tank_improved,z0,[t[i],t[i+1]],args=(min,tin,cp,q[i],rho,g,r[i],a,))\n",
    "    z0 = z[1]\n",
    "    #print(z[1])\n",
    "    h[i+1] = z[1,0]\n",
    "    te[i+1] = z[1,1]\n",
    "\n",
    "    LastError[0] = error_h[i]\n",
    "    LastError[1] = error_te[i]\n",
    "    \n",
    "#te = te - 273.15"
   ]
  },
  {
   "cell_type": "code",
   "execution_count": 155,
   "metadata": {},
   "outputs": [
    {
     "data": {
      "image/png": "[encoded data removed]",
      "text/plain": [
       "<Figure size 432x288 with 2 Axes>"
      ]
     },
     "metadata": {
      "needs_background": "light"
     },
     "output_type": "display_data"
    }
   ],
   "source": [
    "fig, ax = plt.subplots(2)\n",
    "\n",
    "fig.suptitle('my results')\n",
    "\n",
    "ax[0].plot(t, h)\n",
    "ax[0].plot(t,sp_h,'r--')\n",
    "ax[0].set_title(\"tank lvl\")\n",
    "ax[0].set_xlabel('time in secs')\n",
    "ax[0].set_ylabel('level in m ')\n",
    "\n",
    "ax[1].sharex(ax[0])\n",
    "ax[1].plot(t, te)\n",
    "ax[1].plot(t,sp_te,'r--')\n",
    "ax[1].set_title(\"temperature due to heater\")\n",
    "ax[1].set_xlabel('time in secs')\n",
    "ax[1].set_ylabel('temperature in kelvin')\n",
    "fig.tight_layout()\n",
    "\n",
    "plt.show()"
   ]
  }
 ],
 "metadata": {
  "kernelspec": {
   "display_name": "Python 3.10.5 64-bit",
   "language": "python",
   "name": "python3"
  },
  "language_info": {
   "codemirror_mode": {
    "name": "ipython",
    "version": 3
   },
   "file_extension": ".py",
   "mimetype": "text/x-python",
   "name": "python",
   "nbconvert_exporter": "python",
   "pygments_lexer": "ipython3",
   "version": "3.10.5"
  },
  "orig_nbformat": 4,
  "vscode": {
   "interpreter": {
    "hash": "1afc2465d51323882f1f87315e33109022f2b980037b53bf7d593afdb44ede92"
   }
  }
 },
 "nbformat": 4,
 "nbformat_minor": 2
}
