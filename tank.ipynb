{
 "cells": [
  {
   "cell_type": "code",
   "execution_count": 116,
   "metadata": {},
   "outputs": [],
   "source": [
    "from scipy.integrate import odeint\n",
    "import numpy as np\n",
    "import matplotlib.pyplot as plt"
   ]
  },
  {
   "cell_type": "code",
   "execution_count": 151,
   "metadata": {},
   "outputs": [],
   "source": [
    "def tank(z,t,min,tin,cp,q):\n",
    "    m = z[0]\n",
    "    te = z[1]\n",
    "    dmdt = min - m\n",
    "    dTdt = (min/m)*tin - te + q/(cp*m)\n",
    "    dzdt = [dmdt,dTdt]\n",
    "    return dzdt\n",
    "\n",
    "def tank_improved(z,t,min,tin,cp,q,rho,g,r,a):\n",
    "    h = z[0]\n",
    "    te = z[1]\n",
    "    dhdt = (1/a) * ((min/rho) - (rho*g*h/r))\n",
    "    dTdt = (min/(rho*rho*g*h/r))*tin - te + q/(cp*(rho*rho*g*h/r))\n",
    "    dzdt = [dhdt,dTdt]\n",
    "    return dzdt\n"
   ]
  },
  {
   "cell_type": "code",
   "execution_count": 179,
   "metadata": {},
   "outputs": [],
   "source": [
    "# heater model parameters\n",
    "t = np.linspace(0,200,1000)\n",
    "\n",
    "tin = 293.15\n",
    "q = 150000\n",
    "cp = 4.2\n",
    "\n",
    "# tank model parameters \n",
    "min = 3000.0\n",
    "h0 = 2\n",
    "rho = 1000\n",
    "r = 20000\n",
    "a = np.pi * 1.5**2\n",
    "g = 9.8\n",
    "\n",
    "\n",
    "z0 = [h0,tin]"
   ]
  },
  {
   "cell_type": "code",
   "execution_count": 180,
   "metadata": {},
   "outputs": [],
   "source": [
    "z = odeint(tank_improved,z0,t,args=(min,tin,cp,q,rho,g,r,a,))\n",
    "h = z[:,0]\n",
    "te = z[:,1]\n",
    "te = te - 273.15"
   ]
  },
  {
   "cell_type": "code",
   "execution_count": 184,
   "metadata": {},
   "outputs": [
    {
     "data": {
      "image/png": "[encoded data removed]",
      "text/plain": [
       "<Figure size 432x288 with 1 Axes>"
      ]
     },
     "metadata": {
      "needs_background": "light"
     },
     "output_type": "display_data"
    }
   ],
   "source": [
    "plt.plot(t,te)\n",
    "plt.show()"
   ]
  },
  {
   "cell_type": "code",
   "execution_count": 155,
   "metadata": {},
   "outputs": [
    {
     "data": {
      "image/png": "[encoded data removed]",
      "text/plain": [
       "<Figure size 432x288 with 1 Axes>"
      ]
     },
     "metadata": {
      "needs_background": "light"
     },
     "output_type": "display_data"
    }
   ],
   "source": [
    "plt.plot(t,h,'r-')\n",
    "plt.show()"
   ]
  }
 ],
 "metadata": {
  "kernelspec": {
   "display_name": "Python 3.10.5 64-bit",
   "language": "python",
   "name": "python3"
  },
  "language_info": {
   "codemirror_mode": {
    "name": "ipython",
    "version": 3
   },
   "file_extension": ".py",
   "mimetype": "text/x-python",
   "name": "python",
   "nbconvert_exporter": "python",
   "pygments_lexer": "ipython3",
   "version": "3.10.5"
  },
  "orig_nbformat": 4,
  "vscode": {
   "interpreter": {
    "hash": "1afc2465d51323882f1f87315e33109022f2b980037b53bf7d593afdb44ede92"
   }
  }
 },
 "nbformat": 4,
 "nbformat_minor": 2
}
