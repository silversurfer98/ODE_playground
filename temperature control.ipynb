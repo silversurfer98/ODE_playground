{
 "cells": [
  {
   "cell_type": "code",
   "execution_count": 1,
   "metadata": {},
   "outputs": [],
   "source": [
    "#libraries\n",
    "from scipy.integrate import odeint\n",
    "import numpy as np\n",
    "import matplotlib.pyplot as plt"
   ]
  },
  {
   "cell_type": "code",
   "execution_count": 2,
   "metadata": {},
   "outputs": [],
   "source": [
    "# model - simple tank with heater\n",
    "def temp(te,t,tin,q,m,cp):\n",
    "    dTdt = tin - te + q/(m*cp)\n",
    "    return dTdt"
   ]
  },
  {
   "cell_type": "code",
   "execution_count": 3,
   "metadata": {},
   "outputs": [],
   "source": [
    "# model parameters\n",
    "t = np.linspace(0,200,1000)\n",
    "q = 100.0\n",
    "m = 10.0\n",
    "cp = 4.1\n",
    "tin = 293.15\n",
    "te0 = 293.15\n",
    "te = np.ones(len(t))\n",
    "te[0] = te0"
   ]
  },
  {
   "cell_type": "code",
   "execution_count": 11,
   "metadata": {},
   "outputs": [],
   "source": [
    "# controller parameters\n",
    "error = np.zeros(len(t))\n",
    "qcontrol = np.ones(len(t))*100\n",
    "sp = np.ones(len(t))*350\n",
    "sp[600:] = 340"
   ]
  },
  {
   "cell_type": "code",
   "execution_count": 12,
   "metadata": {},
   "outputs": [],
   "source": [
    "# tuning parameters for PID\n",
    "kc = 1.2\n",
    "taui = 5.0\n",
    "taud = 5.0\n",
    "\n",
    "Isum = 0\n",
    "LastError = 0\n",
    "Dsum = 0"
   ]
  },
  {
   "cell_type": "code",
   "execution_count": 13,
   "metadata": {},
   "outputs": [],
   "source": [
    "#integrator\n",
    "for i in range(len(t)-1):\n",
    "    ## controller\n",
    "    error[i] = sp[i] - te0\n",
    "    Isum = Isum + (kc/taui)*error[i]\n",
    "    Dsum = (kc/taud)*(error[i]-LastError)\n",
    "    qcontrol[i] = qcontrol[0] + kc*error[i] + Isum + Dsum\n",
    "    ##################################################\n",
    "    tep = odeint(temp,te0,[t[i],t[i+1]],args=(tin,qcontrol[i],m,cp,))\n",
    "    te0 = tep[1]\n",
    "    te[i+1] = tep[1]\n",
    "    LastError = error[i]\n",
    "#print(te)"
   ]
  },
  {
   "cell_type": "code",
   "execution_count": 14,
   "metadata": {},
   "outputs": [
    {
     "data": {
      "image/png": "[encoded data removed]",
      "text/plain": [
       "<Figure size 432x288 with 1 Axes>"
      ]
     },
     "metadata": {
      "needs_background": "light"
     },
     "output_type": "display_data"
    }
   ],
   "source": [
    "# plot them\n",
    "plt.plot(t,te)\n",
    "plt.plot(t,sp)\n",
    "#plt.plot(t,qcontrol)\n",
    "plt.show()"
   ]
  }
 ],
 "metadata": {
  "kernelspec": {
   "display_name": "Python 3.10.5 64-bit",
   "language": "python",
   "name": "python3"
  },
  "language_info": {
   "codemirror_mode": {
    "name": "ipython",
    "version": 3
   },
   "file_extension": ".py",
   "mimetype": "text/x-python",
   "name": "python",
   "nbconvert_exporter": "python",
   "pygments_lexer": "ipython3",
   "version": "3.10.5"
  },
  "orig_nbformat": 4,
  "vscode": {
   "interpreter": {
    "hash": "1afc2465d51323882f1f87315e33109022f2b980037b53bf7d593afdb44ede92"
   }
  }
 },
 "nbformat": 4,
 "nbformat_minor": 2
}
